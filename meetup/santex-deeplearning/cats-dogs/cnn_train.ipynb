{
 "cells": [
  {
   "cell_type": "code",
   "execution_count": 10,
   "metadata": {
    "collapsed": false
   },
   "outputs": [],
   "source": [
    "%matplotlib inline\n",
    "import tensorflow as tf\n",
    "import matplotlib.pyplot as plt\n",
    "import numpy as np\n",
    "import glob\n",
    "import os\n",
    "from PIL import Image\n",
    "import random\n",
    "from sklearn.cross_validation import train_test_split\n",
    "from tqdm import tnrange"
   ]
  },
  {
   "cell_type": "code",
   "execution_count": 6,
   "metadata": {
    "collapsed": true
   },
   "outputs": [],
   "source": [
    "resize_default=64\n",
    "\n",
    "def resizeImg(image):\n",
    "    img_w=image.size[0]\n",
    "    img_h=image.size[1]\n",
    "    #print(\"Image: %s (%i x %i)\" % (imgUrl, img_w, img_h))\n",
    "    slot = int(img_w/100) +1 if img_w > img_h else int(img_h/100) +1 \n",
    "    \n",
    "    if slot!=0:\n",
    "        if img_w >= img_h:\n",
    "            img = image.resize((resize_default,int(resize_default*img_h/img_w)), Image.ANTIALIAS)\n",
    "        else:\n",
    "            img = image.resize((int(resize_default*img_w/img_h),resize_default), Image.ANTIALIAS)\n",
    "        \n",
    "    return img;\n",
    "\n",
    "def padImg(image):\n",
    "    img_w=image.size[0]\n",
    "    img_h=image.size[1]\n",
    "    \n",
    "    if img_w > resize_default or img_h > resize_default:\n",
    "        if img_w >= img_h:\n",
    "            new_size = (img_w, img_w)\n",
    "        else:\n",
    "            new_size = (img_h, img_h)\n",
    "    else:\n",
    "        new_size = (resize_default, resize_default)\n",
    "        \n",
    "    img = Image.new(\"RGB\", new_size)\n",
    "    img.paste(image, (int((new_size[0]-img_w)/2),int((new_size[1]-img_h)/2)))\n",
    "        \n",
    "    return img;\n",
    "\n",
    "# extract labels\n",
    "# positives = [1, 0], negatives = [0, 1]\n",
    "def get_label(path):\n",
    "    if path.split('/')[-1:][0].startswith('cat'): \n",
    "        return np.array([1, 0])\n",
    "    else:\n",
    "        return np.array([0, 1])\n",
    "\n",
    "def getXYBatch(X_input, Y_input, batch_size):   \n",
    "    X_array = np.array(padImg(resizeImg(Image.open(X_input[0])))).reshape([-1]) / 255\n",
    "    Y_array = Y_input[0]\n",
    "\n",
    "    choice = np.random.choice(range(len(X_input)), batch_size, replace=False)\n",
    "    for item in choice:\n",
    "        tmpimg = np.array(padImg(resizeImg(Image.open(X_input[item])))).reshape([-1]) / 255\n",
    "        X_array = np.vstack((X_array, tmpimg))\n",
    "        Y_array = np.vstack((Y_array,Y_input[item]))\n",
    "\n",
    "    X_array = X_array[1:]\n",
    "    Y_array = Y_array[1:]\n",
    "    \n",
    "    X_array = X_array.reshape([-1,resize_default,resize_default,3])\n",
    "    \n",
    "    return X_array, Y_array;"
   ]
  },
  {
   "cell_type": "code",
   "execution_count": 3,
   "metadata": {
    "collapsed": false
   },
   "outputs": [
    {
     "name": "stdout",
     "output_type": "stream",
     "text": [
      "Positive samples: 12500\n",
      "Negative samples: 12500 \n",
      "\n",
      "Train:\n",
      "Positive samples: 10004\n",
      "Negative samples: 9996\n",
      "Positive ratio: 0.5002\n",
      "-------------------------\n",
      "Test:\n",
      "Positive samples: 2496\n",
      "Negative samples: 2504\n",
      "Positive ratio: 0.4992\n"
     ]
    }
   ],
   "source": [
    "train_path = \"data/train\"\n",
    "images = glob.glob(os.path.join(train_path, \"*.jpg\"))\n",
    "random.shuffle(images)\n",
    "#images = images[0:250]\n",
    "\n",
    "# extract pixels\n",
    "data_images = images\n",
    "        \n",
    "data_labels = np.array([get_label(p) for p in images])\n",
    "data_labels_out = np.argmax(data_labels, 1)\n",
    "\n",
    "print(\"Positive samples: %i\\nNegative samples: %i \\n\" % (len(data_labels_out)-np.count_nonzero(data_labels_out)\n",
    "                                                      , np.count_nonzero(data_labels_out)))\n",
    "#Split Data Sets\n",
    "X_train, X_test, y_train, y_test = train_test_split(data_images, data_labels, test_size=0.2)\n",
    "y_train_out = np.argmax(y_train, 1)\n",
    "y_test_out = np.argmax(y_test, 1)\n",
    "\n",
    "print(\"Train:\")\n",
    "print(\"Positive samples: %i\\nNegative samples: %i\" % (len(y_train_out)-np.count_nonzero(y_train_out)\n",
    "                                                      , np.count_nonzero(y_train_out)))  \n",
    "print(\"Positive ratio: %.4f\" % ((len(y_train_out)-np.count_nonzero(y_train_out) ) / len(y_train_out)) )\n",
    "print(\"-------------------------\")\n",
    "print(\"Test:\")\n",
    "print(\"Positive samples: %i\\nNegative samples: %i\" % (len(y_test_out)-np.count_nonzero(y_test_out)\n",
    "                                                      , np.count_nonzero(y_test_out)))\n",
    "print(\"Positive ratio: %.4f\" % ((len(y_test_out)-np.count_nonzero(y_test_out) ) / len(y_test_out)) )\n"
   ]
  },
  {
   "cell_type": "code",
   "execution_count": 4,
   "metadata": {
    "collapsed": false
   },
   "outputs": [],
   "source": [
    "def dropout(x, prob, train_phase):\n",
    "    return tf.cond(train_phase, \n",
    "                   lambda: tf.nn.dropout(x, prob),\n",
    "                   lambda: x)\n",
    "\n",
    "def weight_variable(shape):\n",
    "  return tf.Variable(tf.truncated_normal(shape, stddev=0.1))\n",
    "\n",
    "def bias_variable(shape):\n",
    "  return tf.Variable(tf.constant(0.1, shape=shape))\n",
    "\n",
    "def conv2d(x, W):\n",
    "  return tf.nn.conv2d(x, W, strides=[1, 1, 1, 1], padding='SAME')\n",
    "\n",
    "def max_pool_2x2(x):\n",
    "  return tf.nn.max_pool(x, ksize=[1, 2, 2, 1],strides=[1, 2, 2, 1], padding='SAME')"
   ]
  },
  {
   "cell_type": "code",
   "execution_count": 7,
   "metadata": {
    "collapsed": false
   },
   "outputs": [],
   "source": [
    "sess = tf.InteractiveSession()\n",
    "\n",
    "# tf Graph Input\n",
    "x = tf.placeholder(tf.float32, [None,64,64,3]) \n",
    "y = tf.placeholder(tf.float32, [None, 2])\n",
    "\n",
    "# dropout placeholder\n",
    "keep_prob = tf.placeholder(tf.float32)\n",
    "\n",
    "# train flag placeholder\n",
    "train_phase = tf.placeholder(tf.bool) # For Batch Normalization\n",
    "\n",
    "# Set model weights\n",
    "W1 = weight_variable([3, 3, 3, 32])\n",
    "b1 = bias_variable([32])\n",
    "\n",
    "W2 = weight_variable([3, 3, 32, 64])\n",
    "b2 = bias_variable([64])\n",
    "\n",
    "W3 = weight_variable([3, 3, 64, 64])\n",
    "b3 = bias_variable([64])\n",
    "\n",
    "W4 = weight_variable([16 * 16 * 64, 512])\n",
    "b4 = bias_variable([512])\n",
    "\n",
    "W5 = weight_variable([512, 2])\n",
    "b5 = bias_variable([2])\n",
    "\n",
    "# hidden layers\n",
    "conv1 = tf.nn.relu(conv2d(x, W1) + b1)\n",
    "maxp1 = max_pool_2x2(conv1)\n",
    "\n",
    "conv2 = tf.nn.relu(conv2d(maxp1, W2) + b2)\n",
    "#maxp2 = max_pool_2x2(conv2)\n",
    "\n",
    "conv3 = tf.nn.relu(conv2d(conv2, W3) + b3)\n",
    "maxp3 = max_pool_2x2(conv3)\n",
    "\n",
    "# fully connected\n",
    "maxp3_flat = tf.reshape(maxp3, [-1, 16 * 16 * 64])\n",
    "\n",
    "full1 = tf.nn.relu(tf.matmul(maxp3_flat, W4) + b4)\n",
    "drop1 = tf.nn.dropout(full1, keep_prob)\n",
    "\n",
    "#output\n",
    "output = tf.matmul(drop1, W5) + b5\n",
    "softmax=tf.nn.softmax(output)\n",
    "\n",
    "loss = tf.reduce_mean(tf.nn.softmax_cross_entropy_with_logits(output, y))\n",
    "\n",
    "all_variables = tf.trainable_variables() "
   ]
  },
  {
   "cell_type": "code",
   "execution_count": 8,
   "metadata": {
    "collapsed": false
   },
   "outputs": [
    {
     "name": "stdout",
     "output_type": "stream",
     "text": [
      "Model constructed, initializing all variables...\n",
      "Finished\n"
     ]
    }
   ],
   "source": [
    "starter_learning_rate = 0.0005\n",
    "decay_steps = 100\n",
    "decay_rate  = 0.9 # the learning rate will decrement by this rate\n",
    "regularization_strength = 0.001\n",
    "\n",
    "L2_regularization = tf.add_n([tf.nn.l2_loss(v) for v in all_variables if 'BatchNorm' not in v.name])  # fix for BN\n",
    "loss = loss + L2_regularization * regularization_strength\n",
    "\n",
    "global_step = tf.Variable(0, trainable=False)\n",
    "learning_rate = tf.train.exponential_decay(starter_learning_rate, global_step,\n",
    "                                           decay_steps, decay_rate, staircase=True)\n",
    "train_step = tf.train.AdamOptimizer(learning_rate).minimize(loss, global_step=global_step)\n",
    "\n",
    "# Getting predictions and accuracy\n",
    "predictions = tf.argmax(softmax, 1)\n",
    "correct_prediction = tf.equal(predictions, tf.argmax(y, 1))\n",
    "accuracy = tf.reduce_mean(tf.cast(correct_prediction, tf.float32))\n",
    "\n",
    "# Add ops to save and restore all the variables.\n",
    "saver = tf.train.Saver()\n",
    "\n",
    "print(\"Model constructed, initializing all variables...\")\n",
    "\n",
    "# initialize variables\n",
    "sess.run(tf.initialize_all_variables())\n",
    "\n",
    "print(\"Finished\")"
   ]
  },
  {
   "cell_type": "code",
   "execution_count": null,
   "metadata": {
    "collapsed": false
   },
   "outputs": [
    {
     "name": "stdout",
     "output_type": "stream",
     "text": [
      "Step 00001: accuracy=0.4860\tloss=74.362381\tlearning rate=0.000500\n",
      "Step 00100: accuracy=0.6620\tloss=34.407295\tlearning rate=0.000450\n",
      "Step 00200: accuracy=0.7540\tloss=21.410439\tlearning rate=0.000405\n",
      "Step 00800: accuracy=0.8700\tloss=8.586634\tlearning rate=0.000215\n",
      "Step 00900: accuracy=0.8920\tloss=8.109348\tlearning rate=0.000194\n",
      "Step 01000: accuracy=0.8920\tloss=7.734212\tlearning rate=0.000174\n",
      "\n"
     ]
    },
    {
     "data": {
      "image/png": "[encoded data removed]",
      "text/plain": [
       "<matplotlib.figure.Figure at 0x7f901401d358>"
      ]
     },
     "metadata": {},
     "output_type": "display_data"
    }
   ],
   "source": [
    "# Hyper-parameters\n",
    "training_steps = 2000\n",
    "batch_size = 500\n",
    "display_step = 100\n",
    "\n",
    "# Mini-batch Gradient Descent\n",
    "training_accuracy = []\n",
    "training_loss     = []\n",
    "\n",
    "for i in tnrange(training_steps):\n",
    "    \n",
    "    X,Y = getXYBatch(X_train,y_train,batch_size)\n",
    "    \n",
    "    batch_accuracy, batch_loss, _ = sess.run([accuracy, loss, train_step],\n",
    "                                             feed_dict={x:X, y:Y, train_phase: True, keep_prob: 1.0})\n",
    "    training_accuracy.append(batch_accuracy)\n",
    "    training_loss.append(batch_loss)\n",
    "    # Displaying info\n",
    "    if (i+1)%display_step == 0 or i == 0:\n",
    "        print(\"Step %05d: accuracy=%.4f\\tloss=%.6f\\tlearning rate=%.6f\" %\n",
    "              (i+1, batch_accuracy, batch_loss, learning_rate.eval()))\n",
    "\n",
    "save_path = saver.save(sess, \"./saved/model.ckpt\")\n",
    "print(\"Model saved in file: %s\" % save_path)      \n",
    "        \n",
    "plt.figure(figsize=(10,4))\n",
    "plot_titles = [\"Training accuracy\", \"Training Loss\"]\n",
    "for i, plot_data in enumerate([training_accuracy, training_loss]):\n",
    "    plt.subplot(1, 2, i+1)\n",
    "    plt.plot(plot_data)\n",
    "    plt.title(plot_titles[i])"
   ]
  },
  {
   "cell_type": "code",
   "execution_count": 11,
   "metadata": {
    "collapsed": false
   },
   "outputs": [
    {
     "name": "stdout",
     "output_type": "stream",
     "text": [
      "Model saved in file: ./saved/model.ckpt\n"
     ]
    }
   ],
   "source": [
    "save_path = saver.save(sess, \"./saved/model.ckpt\")\n",
    "print(\"Model saved in file: %s\" % save_path)"
   ]
  },
  {
   "cell_type": "code",
   "execution_count": null,
   "metadata": {
    "collapsed": true
   },
   "outputs": [],
   "source": []
  }
 ],
 "metadata": {
  "anaconda-cloud": {},
  "kernelspec": {
   "display_name": "Python [conda env:tf]",
   "language": "python",
   "name": "conda-env-tf-py"
  },
  "language_info": {
   "codemirror_mode": {
    "name": "ipython",
    "version": 3
   },
   "file_extension": ".py",
   "mimetype": "text/x-python",
   "name": "python",
   "nbconvert_exporter": "python",
   "pygments_lexer": "ipython3",
   "version": "3.5.2"
  },
  "widgets": {
   "state": {
    "ca4e470c0aba48ff9520a6195b0725b9": {
     "views": [
      {
       "cell_index": 6
      }
     ]
    }
   },
   "version": "1.2.0"
  }
 },
 "nbformat": 4,
 "nbformat_minor": 2
}
