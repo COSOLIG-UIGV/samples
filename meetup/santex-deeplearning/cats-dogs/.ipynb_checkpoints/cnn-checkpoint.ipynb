{
 "cells": [
  {
   "cell_type": "code",
   "execution_count": 4,
   "metadata": {
    "collapsed": false
   },
   "outputs": [],
   "source": [
    "%matplotlib inline\n",
    "import tensorflow as tf\n",
    "import matplotlib.pyplot as plt\n",
    "import numpy as np\n",
    "import glob\n",
    "import os\n",
    "from PIL import Image\n",
    "import random\n",
    "from sklearn.cross_validation import train_test_split\n",
    "from tqdm import tnrange"
   ]
  },
  {
   "cell_type": "code",
   "execution_count": 5,
   "metadata": {
    "collapsed": true
   },
   "outputs": [],
   "source": [
    "def resizeImg(image):\n",
    "    img_w=image.size[0]\n",
    "    img_h=image.size[1]\n",
    "    #print(\"Image: %s (%i x %i)\" % (imgUrl, img_w, img_h))\n",
    "    slot = int(img_w/100) +1 if img_w > img_h else int(img_h/100) +1 \n",
    "    \n",
    "    if slot == 1:\n",
    "        img = image.resize((img_w*2,img_h*2), Image.ANTIALIAS)\n",
    "    else:\n",
    "        if img_w >= img_h:\n",
    "            img = image.resize((250,int(250*img_h/img_w)), Image.ANTIALIAS)\n",
    "        else:\n",
    "            img = image.resize((int(250*img_w/img_h),250), Image.ANTIALIAS)\n",
    "        \n",
    "    return img;\n",
    "\n",
    "def padImg(image):\n",
    "    img_w=image.size[0]\n",
    "    img_h=image.size[1]\n",
    "    \n",
    "    if img_w > 250 or img_h > 250:\n",
    "        if img_w >= img_h:\n",
    "            new_size = (img_w, img_w)\n",
    "        else:\n",
    "            new_size = (img_h, img_h)\n",
    "    else:\n",
    "        new_size = (250, 250)\n",
    "        \n",
    "    img = Image.new(\"RGB\", new_size)\n",
    "    img.paste(image, (int((new_size[0]-img_w)/2),int((new_size[1]-img_h)/2)))\n",
    "        \n",
    "    return img;\n",
    "\n",
    "# extract labels\n",
    "# positives = [1, 0], negatives = [0, 1]\n",
    "def get_label(path):\n",
    "    if path.split('/')[-1:][0].startswith('cat'): \n",
    "        return np.array([1, 0])\n",
    "    else:\n",
    "        return np.array([0, 1])"
   ]
  },
  {
   "cell_type": "code",
   "execution_count": 3,
   "metadata": {
    "collapsed": false
   },
   "outputs": [
    {
     "name": "stdout",
     "output_type": "stream",
     "text": [
      "Loading 50 of 250 images\n",
      "Loading 100 of 250 images\n",
      "Loading 150 of 250 images\n",
      "Loading 200 of 250 images\n",
      "Positive samples: 118\n",
      "Negative samples: 132 \n",
      "\n"
     ]
    }
   ],
   "source": [
    "train_path = \"data/train\"\n",
    "images = glob.glob(os.path.join(train_path, \"*.jpg\"))\n",
    "random.shuffle(images)\n",
    "images = images[0:250]\n",
    "\n",
    "# extract pixels\n",
    "data_images = np.array(padImg(resizeImg(Image.open(images[0])))).reshape([-1]) / 255\n",
    "\n",
    "for i in range(1,len(images)):\n",
    "    tmpimg = np.array(padImg(resizeImg(Image.open(images[i])))).reshape([-1]) / 255\n",
    "    data_images = np.vstack((data_images, tmpimg))\n",
    "    if i % 50 == 0:\n",
    "        print(\"Loading %i of %i images\" %(i, len(images)))\n",
    "        \n",
    "data_labels = np.array([get_label(p) for p in images])\n",
    "data_images = data_images.reshape([-1,250,250,3])\n",
    "data_labels_out = np.argmax(data_labels, 1)\n",
    "\n",
    "print(\"Positive samples: %i\\nNegative samples: %i \\n\" % (len(data_labels_out)-np.count_nonzero(data_labels_out)\n",
    "                                                      , np.count_nonzero(data_labels_out)))"
   ]
  },
  {
   "cell_type": "code",
   "execution_count": 6,
   "metadata": {
    "collapsed": false
   },
   "outputs": [
    {
     "name": "stdout",
     "output_type": "stream",
     "text": [
      "Train:\n",
      "Positive samples: 96\n",
      "Negative samples: 104\n",
      "Positive ratio: 0.4800\n",
      "-------------------------\n",
      "Test:\n",
      "Positive samples: 22\n",
      "Negative samples: 28\n",
      "Positive ratio: 0.4400\n"
     ]
    }
   ],
   "source": [
    "#Split Data Sets\n",
    "X_train, X_test, y_train, y_test = train_test_split(data_images, data_labels, test_size=0.2)\n",
    "y_train_out = np.argmax(y_train, 1)\n",
    "y_test_out = np.argmax(y_test, 1)\n",
    "\n",
    "print(\"Train:\")\n",
    "print(\"Positive samples: %i\\nNegative samples: %i\" % (len(y_train_out)-np.count_nonzero(y_train_out)\n",
    "                                                      , np.count_nonzero(y_train_out)))  \n",
    "print(\"Positive ratio: %.4f\" % ((len(y_train_out)-np.count_nonzero(y_train_out) ) / len(y_train_out)) )\n",
    "print(\"-------------------------\")\n",
    "print(\"Test:\")\n",
    "print(\"Positive samples: %i\\nNegative samples: %i\" % (len(y_test_out)-np.count_nonzero(y_test_out)\n",
    "                                                      , np.count_nonzero(y_test_out)))\n",
    "print(\"Positive ratio: %.4f\" % ((len(y_test_out)-np.count_nonzero(y_test_out) ) / len(y_test_out)) )\n"
   ]
  },
  {
   "cell_type": "code",
   "execution_count": 7,
   "metadata": {
    "collapsed": false
   },
   "outputs": [],
   "source": [
    "def dropout(x, prob, train_phase):\n",
    "    return tf.cond(train_phase, \n",
    "                   lambda: tf.nn.dropout(x, prob),\n",
    "                   lambda: x)\n",
    "\n",
    "def weight_variable(shape):\n",
    "  return tf.Variable(tf.truncated_normal(shape, stddev=0.1))\n",
    "\n",
    "def bias_variable(shape):\n",
    "  return tf.Variable(tf.constant(0.1, shape=shape))\n",
    "\n",
    "def conv2d(x, W):\n",
    "  return tf.nn.conv2d(x, W, strides=[1, 1, 1, 1], padding='SAME')\n",
    "\n",
    "def max_pool_2x2(x):\n",
    "  return tf.nn.max_pool(x, ksize=[1, 2, 2, 1],strides=[1, 2, 2, 1], padding='SAME')"
   ]
  },
  {
   "cell_type": "code",
   "execution_count": 10,
   "metadata": {
    "collapsed": true
   },
   "outputs": [],
   "source": [
    "sess = tf.InteractiveSession()\n",
    "\n",
    "# tf Graph Input\n",
    "x = tf.placeholder(tf.float32, [None, 250, 250, 3])\n",
    "y = tf.placeholder(tf.float32, [None, 2])\n",
    "\n",
    "# dropout placeholder\n",
    "keep_prob = tf.placeholder(tf.float32)\n",
    "\n",
    "# train flag placeholder\n",
    "train_phase = tf.placeholder(tf.bool)  # For Batch Normalization\n",
    "\n",
    "# Set model weights\n",
    "W1 = weight_variable([3, 3, 3, 64])\n",
    "b1 = bias_variable([64])\n",
    "\n",
    "W2 = weight_variable([3, 3, 64, 128])\n",
    "b2 = bias_variable([128])\n",
    "\n",
    "W3 = weight_variable([3, 3, 128, 256])\n",
    "b3 = bias_variable([256])\n",
    "\n",
    "W4 = weight_variable([3, 3, 256, 512])\n",
    "b4 = bias_variable([512])\n",
    "\n",
    "W5 = weight_variable([3, 3, 512, 1024])\n",
    "b5 = bias_variable([1024])\n",
    "\n",
    "W6 = weight_variable([8 * 8 * 1024, 2048])\n",
    "b6 = bias_variable([2048])\n",
    "\n",
    "W7 = weight_variable([2048, 2048])\n",
    "b7 = bias_variable([2048])\n",
    "\n",
    "W8 = weight_variable([2048, 2])\n",
    "b8 = bias_variable([2])\n",
    "\n",
    "# hidden layers\n",
    "conv1 = tf.nn.relu(conv2d(x, W1) + b1)\n",
    "maxp1 = max_pool_2x2(conv1)\n",
    "\n",
    "conv2 = tf.nn.relu(conv2d(maxp1, W2) + b2)\n",
    "maxp2 = max_pool_2x2(conv2)\n",
    "\n",
    "conv3 = tf.nn.relu(conv2d(maxp2, W3) + b3)\n",
    "maxp3 = max_pool_2x2(conv3)\n",
    "\n",
    "conv4 = tf.nn.relu(conv2d(maxp3, W4) + b4)\n",
    "maxp4 = max_pool_2x2(conv4)\n",
    "\n",
    "conv5 = tf.nn.relu(conv2d(maxp4, W5) + b5)\n",
    "maxp5 = max_pool_2x2(conv5)\n",
    "\n",
    "# fully connected\n",
    "maxp5_flat = tf.reshape(maxp5, [-1, 8 * 8 * 1024])\n",
    "\n",
    "full1 = tf.nn.relu(tf.matmul(maxp5_flat, W6) + b6)\n",
    "drop1 = tf.nn.dropout(full1, keep_prob)\n",
    "\n",
    "full2 = tf.nn.relu(tf.matmul(drop1, W7) + b7)\n",
    "drop2 = tf.nn.dropout(full2, keep_prob)\n",
    "\n",
    "# output\n",
    "output = tf.matmul(drop2, W8) + b8\n",
    "softmax = tf.nn.softmax(output)\n",
    "\n",
    "loss = tf.reduce_mean(tf.nn.softmax_cross_entropy_with_logits(output, y))\n",
    "\n",
    "all_variables = tf.trainable_variables()\n"
   ]
  },
  {
   "cell_type": "code",
   "execution_count": 11,
   "metadata": {
    "collapsed": false
   },
   "outputs": [
    {
     "name": "stdout",
     "output_type": "stream",
     "text": [
      "Model constructed, initializing all variables...\n",
      "WARNING:tensorflow:From <ipython-input-11-bf259037473f>:26 in <module>.: initialize_all_variables (from tensorflow.python.ops.variables) is deprecated and will be removed after 2017-03-02.\n",
      "Instructions for updating:\n",
      "Use `tf.global_variables_initializer` instead.\n"
     ]
    }
   ],
   "source": [
    "starter_learning_rate = 0.002\n",
    "decay_steps = 100\n",
    "decay_rate  = 0.9 # the learning rate will decrement by this rate\n",
    "regularization_strength = 0.001\n",
    "\n",
    "\n",
    "L2_regularization = tf.add_n([tf.nn.l2_loss(v) for v in all_variables if 'BatchNorm' not in v.name])  # fix for BN\n",
    "loss = loss + L2_regularization * regularization_strength\n",
    "\n",
    "global_step = tf.Variable(0, trainable=False)\n",
    "learning_rate = tf.train.exponential_decay(starter_learning_rate, global_step,\n",
    "                                           decay_steps, decay_rate, staircase=True)\n",
    "train_step = tf.train.AdamOptimizer(learning_rate).minimize(loss, global_step=global_step)\n",
    "\n",
    "# Getting predictions and accuracy\n",
    "predictions = tf.argmax(softmax, 1)\n",
    "correct_prediction = tf.equal(predictions, tf.argmax(y, 1))\n",
    "accuracy = tf.reduce_mean(tf.cast(correct_prediction, tf.float32))\n",
    "\n",
    "# Add ops to save and restore all the variables.\n",
    "saver = tf.train.Saver()\n",
    "\n",
    "print(\"Model constructed, initializing all variables...\")\n",
    "\n",
    "# initialize variables\n",
    "sess.run(tf.initialize_all_variables())"
   ]
  },
  {
   "cell_type": "code",
   "execution_count": null,
   "metadata": {
    "collapsed": false
   },
   "outputs": [
    {
     "name": "stdout",
     "output_type": "stream",
     "text": [
      "Step 00001: accuracy=0.5000\tloss=4332.645508\tlearning rate=0.002000\n",
      "Step 00010: accuracy=0.5625\tloss=1381.772095\tlearning rate=0.002000\n",
      "Step 00020: accuracy=0.5625\tloss=846.156494\tlearning rate=0.002000\n",
      "Step 00030: accuracy=0.3750\tloss=597.495972\tlearning rate=0.002000\n",
      "Step 00040: accuracy=0.5625\tloss=506.716644\tlearning rate=0.002000\n",
      "Step 00050: accuracy=0.5000\tloss=453.496094\tlearning rate=0.002000\n",
      "Step 00060: accuracy=0.3750\tloss=416.809631\tlearning rate=0.002000\n",
      "Step 00070: accuracy=0.6875\tloss=394.281982\tlearning rate=0.002000\n"
     ]
    }
   ],
   "source": [
    "# Hyper-parameters\n",
    "training_steps = 200\n",
    "batch_size = 16\n",
    "display_step = 10\n",
    "\n",
    "# Mini-batch Gradient Descent\n",
    "training_accuracy = []\n",
    "training_loss     = []\n",
    "\n",
    "for i in tnrange(training_steps):\n",
    "    choice = np.random.choice(range(len(X_train)), batch_size, replace=False)\n",
    "\n",
    "    batch_accuracy, batch_loss, _ = sess.run([accuracy, loss, train_step],\n",
    "                                             feed_dict={x:X_train[choice], y: y_train[choice], train_phase: True, keep_prob: 0.5})\n",
    "    training_accuracy.append(batch_accuracy)\n",
    "    training_loss.append(batch_loss)\n",
    "    # Displaying info\n",
    "    if (i+1)%display_step == 0 or i == 0:\n",
    "        print(\"Step %05d: accuracy=%.4f\\tloss=%.6f\\tlearning rate=%.6f\" %\n",
    "              (i+1, batch_accuracy, batch_loss, learning_rate.eval()))\n",
    "\n",
    "#save_path = saver.save(sess, \"./saved/model.ckpt\")\n",
    "#print(\"Model saved in file: %s\" % save_path)        \n",
    "        \n",
    "plt.figure(figsize=(10,4))\n",
    "plot_titles = [\"Training accuracy\", \"Training Loss\"]\n",
    "for i, plot_data in enumerate([training_accuracy, training_loss]):\n",
    "    plt.subplot(1, 2, i+1)\n",
    "    plt.plot(plot_data)\n",
    "    plt.title(plot_titles[i])"
   ]
  },
  {
   "cell_type": "code",
   "execution_count": null,
   "metadata": {
    "collapsed": true
   },
   "outputs": [],
   "source": []
  }
 ],
 "metadata": {
  "kernelspec": {
   "display_name": "Python 3",
   "language": "python",
   "name": "python3"
  },
  "language_info": {
   "codemirror_mode": {
    "name": "ipython",
    "version": 3
   },
   "file_extension": ".py",
   "mimetype": "text/x-python",
   "name": "python",
   "nbconvert_exporter": "python",
   "pygments_lexer": "ipython3",
   "version": "3.5.2"
  },
  "widgets": {
   "state": {
    "f9d66d91855c4fb28dacc959fda11090": {
     "views": [
      {
       "cell_index": 7
      }
     ]
    }
   },
   "version": "1.2.0"
  }
 },
 "nbformat": 4,
 "nbformat_minor": 2
}
