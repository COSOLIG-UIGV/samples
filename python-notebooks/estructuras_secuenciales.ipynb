{
 "cells": [
  {
   "cell_type": "markdown",
   "metadata": {},
   "source": [
    "#### 1) Write code to convert temperatures from Frahrenheit to Celsius: C = (F-32)/1.8"
   ]
  },
  {
   "cell_type": "code",
   "execution_count": 41,
   "metadata": {
    "collapsed": false
   },
   "outputs": [
    {
     "name": "stdout",
     "output_type": "stream",
     "text": [
      "320 F = 160 C\n"
     ]
    }
   ],
   "source": [
    "f=320\n",
    "c=(f-32)/1.8\n",
    "\n",
    "print(\"%d F = %g C\" %(f,c))"
   ]
  },
  {
   "cell_type": "markdown",
   "metadata": {},
   "source": [
    "#### 2) Given 4 numbers, return the standard deviation"
   ]
  },
  {
   "cell_type": "code",
   "execution_count": 43,
   "metadata": {
    "collapsed": false
   },
   "outputs": [
    {
     "name": "stdout",
     "output_type": "stream",
     "text": [
      "Standard deviation:\n",
      "-3.75\n"
     ]
    }
   ],
   "source": [
    "import math\n",
    "import numpy as np\n",
    "\n",
    "nums = [4, 7, 3, 9]\n",
    "\n",
    "avg = np.average(nums)\n",
    "sm = 0\n",
    "\n",
    "for val in nums:\n",
    "    sm += sm + (val - avg)\n",
    "\n",
    "sd = sm / (len(nums) -1)\n",
    "\n",
    "print(\"Standard deviation:\")\n",
    "print(sd)"
   ]
  },
  {
   "cell_type": "markdown",
   "metadata": {},
   "source": [
    "#### 3) Convert inches to centimeters"
   ]
  },
  {
   "cell_type": "code",
   "execution_count": 45,
   "metadata": {
    "collapsed": false
   },
   "outputs": [
    {
     "name": "stdout",
     "output_type": "stream",
     "text": [
      "30 inches to centimeters = 76\n"
     ]
    }
   ],
   "source": [
    "inches = 30\n",
    "centimeters = 2.54 * inches\n",
    "\n",
    "print(\"%d inches to centimeters = %d\" %(inches,centimeters))"
   ]
  },
  {
   "cell_type": "code",
   "execution_count": null,
   "metadata": {
    "collapsed": true
   },
   "outputs": [],
   "source": []
  }
 ],
 "metadata": {
  "anaconda-cloud": {},
  "kernelspec": {
   "display_name": "Python [conda env:tf]",
   "language": "python",
   "name": "conda-env-tf-py"
  },
  "language_info": {
   "codemirror_mode": {
    "name": "ipython",
    "version": 3
   },
   "file_extension": ".py",
   "mimetype": "text/x-python",
   "name": "python",
   "nbconvert_exporter": "python",
   "pygments_lexer": "ipython3",
   "version": "3.5.2"
  }
 },
 "nbformat": 4,
 "nbformat_minor": 1
}
